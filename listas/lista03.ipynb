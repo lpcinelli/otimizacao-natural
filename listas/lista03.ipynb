{
 "cells": [
  {
   "cell_type": "code",
   "execution_count": 1,
   "metadata": {
    "collapsed": false
   },
   "outputs": [
    {
     "name": "stdout",
     "output_type": "stream",
     "text": [
      "3.6.0 |Continuum Analytics, Inc.| (default, Dec 23 2016, 12:22:00) \n",
      "[GCC 4.4.7 20120313 (Red Hat 4.4.7-1)]\n"
     ]
    }
   ],
   "source": [
    "%matplotlib inline\n",
    "\n",
    "import numpy as np\n",
    "import pandas as pd\n",
    "import matplotlib.pyplot as plt\n",
    "import seaborn as sns\n",
    "sns.set(color_codes=True)\n",
    "import sys\n",
    "print(sys.version)\n",
    "import warnings"
   ]
  },
  {
   "cell_type": "markdown",
   "metadata": {},
   "source": [
    "# Questão 1"
   ]
  },
  {
   "cell_type": "code",
   "execution_count": 4,
   "metadata": {
    "collapsed": false
   },
   "outputs": [
    {
     "name": "stdout",
     "output_type": "stream",
     "text": [
      "Distâncias euclidianas quadráticas entre os dados X e os centroides Y:\n",
      "[[  9.     1.     9.    36.  ]\n",
      " [ 11.56   0.36   6.76  31.36]]\n"
     ]
    }
   ],
   "source": [
    "X = np.array((0,4,6,9))\n",
    "Y = np.array((3.0,3.4))\n",
    "\n",
    "dist = np.square(np.vstack((X-Y[0],X-Y[1])))\n",
    "print('Distâncias euclidianas quadráticas entre os dados X e os centroides Y:')\n",
    "print(dist)"
   ]
  },
  {
   "cell_type": "markdown",
   "metadata": {},
   "source": [
    "### Item A"
   ]
  },
  {
   "cell_type": "code",
   "execution_count": 32,
   "metadata": {
    "collapsed": false
   },
   "outputs": [
    {
     "name": "stderr",
     "output_type": "stream",
     "text": [
      "/home/lucas.cinelli/miniconda3/envs/masters/lib/python3.6/site-packages/ipykernel/__main__.py:11: DeprecationWarning: object of type <class 'float'> cannot be safely interpreted as an integer.\n",
      "/home/lucas.cinelli/miniconda3/envs/masters/lib/python3.6/site-packages/ipykernel/__main__.py:5: RuntimeWarning: Mean of empty slice.\n",
      "/home/lucas.cinelli/miniconda3/envs/masters/lib/python3.6/site-packages/numpy/core/_methods.py:80: RuntimeWarning: invalid value encountered in double_scalars\n",
      "  ret = ret.dtype.type(ret / rcount)\n",
      "/home/lucas.cinelli/miniconda3/envs/masters/lib/python3.6/site-packages/ipykernel/__main__.py:6: RuntimeWarning: Mean of empty slice.\n"
     ]
    },
    {
     "data": {
      "image/png": "[encoded data removed]",
      "text/plain": [
       "<matplotlib.figure.Figure at 0x7f8bb64ce080>"
      ]
     },
     "metadata": {},
     "output_type": "display_data"
    }
   ],
   "source": [
    "def calculateHardDist(X,t):\n",
    "    cluster = np.zeros_like(X)\n",
    "    centroid = np.zeros(2)\n",
    "    cluster[X>t] = 1\n",
    "    centroid[0] = X[cluster == 0].mean()\n",
    "    centroid[1] = X[cluster == 1].mean()\n",
    "\n",
    "    dists = np.concatenate((np.square(X[cluster == 0]-centroid[0]),np.square(X[cluster == 1]-centroid[1])))\n",
    "    return dists.mean()\n",
    "\n",
    "t = np.linspace(-1, 10, num=1e4)\n",
    "dist = np.zeros_like(t)\n",
    "for i in range(len(t)):\n",
    "    dist[i] = calculateHardDist(X,t[i])\n",
    "plt.plot(t,dist)\n",
    "plt.title('D(t)')\n",
    "plt.show()\n",
    "# print(dist)"
   ]
  },
  {
   "cell_type": "markdown",
   "metadata": {},
   "source": [
    "### Item B"
   ]
  },
  {
   "cell_type": "code",
   "execution_count": 47,
   "metadata": {
    "collapsed": false
   },
   "outputs": [
    {
     "name": "stdout",
     "output_type": "stream",
     "text": [
      "Fatores de boltzman:\n",
      "[[  1.23409804e-04   3.67879441e-01   1.23409804e-04   2.31952283e-16]\n",
      " [  9.54016287e-06   6.97676326e-01   1.15922917e-03   2.40173478e-14]]\n",
      "\n",
      "Fatores de normalização:\n",
      "[  1.32949967e-04   1.06555577e+00   1.28263898e-03   2.42493001e-14]\n",
      "\n",
      "Probabilidade condicional de y dado x P(y|x):\n",
      "[[ 0.92824246  0.34524654  0.09621554  0.00956532]\n",
      " [ 0.07175754  0.65475346  0.90378446  0.99043468]]\n"
     ]
    }
   ],
   "source": [
    "def calculateConditionalProb(dist,T):\n",
    "    probCond = np.exp(-dist/T)\n",
    "    print('Fatores de boltzman:')\n",
    "    print(probCond)\n",
    "    print('\\nFatores de normalização:')\n",
    "    print(probCond.sum(0))\n",
    "    probCond = (probCond/probCond.sum(0))\n",
    "    print('\\nProbabilidade condicional de y dado x P(y|x):')\n",
    "    print(probCond)\n",
    "    return probCond\n",
    "\n",
    "P1xy = calculateConditionalProb(dist, 1.0)"
   ]
  },
  {
   "cell_type": "markdown",
   "metadata": {},
   "source": [
    "### Item C"
   ]
  },
  {
   "cell_type": "code",
   "execution_count": 48,
   "metadata": {
    "collapsed": false
   },
   "outputs": [
    {
     "name": "stdout",
     "output_type": "stream",
     "text": [
      "Distancia média para os centroides:\n",
      "12.0361407464\n"
     ]
    }
   ],
   "source": [
    "def calculateMeanDist(probCond, dist):\n",
    "    meanDist = (probCond*dist).sum()/4\n",
    "    print('Distancia média para os centroides:')\n",
    "    print(meanDist)\n",
    "    return meanDist\n",
    " \n",
    "calculateMeanDist(P1xy, dist);"
   ]
  },
  {
   "cell_type": "markdown",
   "metadata": {},
   "source": [
    "### Item D"
   ]
  },
  {
   "cell_type": "code",
   "execution_count": 56,
   "metadata": {
    "collapsed": false
   },
   "outputs": [
    {
     "name": "stdout",
     "output_type": "stream",
     "text": [
      "New centroid positions:\n",
      "[ 1.48220978  6.46981253]\n"
     ]
    }
   ],
   "source": [
    "def calculateCentroid(probCond,X):\n",
    "    centroid = (probCond*X).sum(1)/probCond.sum(1)\n",
    "    print('New centroid positions:')\n",
    "    print(centroid)\n",
    "    return centroid\n",
    "\n",
    "calculateCentroid(P1xy, X);"
   ]
  },
  {
   "cell_type": "markdown",
   "metadata": {},
   "source": [
    "### Item E"
   ]
  },
  {
   "cell_type": "code",
   "execution_count": 60,
   "metadata": {
    "collapsed": false
   },
   "outputs": [
    {
     "name": "stdout",
     "output_type": "stream",
     "text": [
      "Para temp T=0.1:\n",
      "\n",
      "Fatores de boltzman:\n",
      "[[  8.19401262e-040   4.53999298e-005   8.19401262e-040   4.50802707e-157]\n",
      " [  6.24536596e-051   2.73237224e-002   4.38220836e-030   6.38631705e-137]]\n",
      "\n",
      "Fatores de normalização:\n",
      "[  8.19401262e-040   2.73691224e-002   4.38220836e-030   6.38631705e-137]\n",
      "\n",
      "Probabilidade condicional de y dado x P(y|x):\n",
      "[[  1.00000000e+00   1.65880108e-03   1.86983638e-10   7.05888391e-21]\n",
      " [  7.62186519e-12   9.98341199e-01   1.00000000e+00   1.00000000e+00]]\n",
      "\n",
      "Distancia média para os centroides:\n",
      "11.8702654083\n",
      "\n",
      "New centroid positions:\n",
      "[ 0.00662422  6.33462423]\n"
     ]
    },
    {
     "data": {
      "text/plain": [
       "array([ 0.00662422,  6.33462423])"
      ]
     },
     "execution_count": 60,
     "metadata": {},
     "output_type": "execute_result"
    }
   ],
   "source": [
    "print('Para temp T=0.1:\\n')\n",
    "P2xy = calculateConditionalProb(dist, 0.1)\n",
    "print()\n",
    "calculateMeanDist(P2xy, dist);\n",
    "print()\n",
    "calculateCentroid(P2xy,X)"
   ]
  },
  {
   "cell_type": "markdown",
   "metadata": {},
   "source": [
    "### Item F"
   ]
  },
  {
   "cell_type": "code",
   "execution_count": 61,
   "metadata": {
    "collapsed": false
   },
   "outputs": [
    {
     "name": "stdout",
     "output_type": "stream",
     "text": [
      "\n",
      "\n",
      "Para temp T=50\n",
      "\n",
      "Fatores de boltzman:\n",
      "[[ 0.83527021  0.98019867  0.83527021  0.48675226]\n",
      " [ 0.79358073  0.99282586  0.87354119  0.53408515]]\n",
      "\n",
      "Fatores de normalização:\n",
      "[ 1.62885095  1.97302453  1.7088114   1.0208374 ]\n",
      "\n",
      "Probabilidade condicional de y dado x P(y|x):\n",
      "[[ 0.5127972   0.49680004  0.48880187  0.47681664]\n",
      " [ 0.4872028   0.50319996  0.51119813  0.52318336]]\n",
      "\n",
      "Distancia média para os centroides:\n",
      "13.0881341418\n",
      "\n",
      "New centroid positions:\n",
      "[ 4.66347086  4.83441083]\n"
     ]
    }
   ],
   "source": [
    "print('\\n\\nPara temp T=50\\n')\n",
    "P3xy = calculateConditionalProb(dist, 50.0)\n",
    "print()\n",
    "calculateMeanDist(P3xy,dist)\n",
    "print()\n",
    "calculateCentroid(P3xy,X);"
   ]
  },
  {
   "cell_type": "markdown",
   "metadata": {},
   "source": [
    "### Item G"
   ]
  },
  {
   "cell_type": "markdown",
   "metadata": {},
   "source": [
    "Para temperaturas T mais altas, os centróides convergem para o mesmo pont: para T=50.0 (item F), a diferença entre ambos centróides é inferior à 4% e a matriz de probabilidades condicionais tende a 1/|centroides| (no caso de |centróides| = 2, Pyx = 0.5). \n",
    "\n",
    "Já para temperaturas T mais baixas, temos uma situação similar ao hard clustering com a matriz de probabilidades tendendo para zeros ou uns apenas, o que fica evidente no caso da temperatura T=0.1 (item E). \n",
    "\n",
    "Naturalmente, T=1.0 é um caso intermediário entre ambos T=50.0 e T=0.1."
   ]
  },
  {
   "cell_type": "markdown",
   "metadata": {},
   "source": [
    "# Questão 2"
   ]
  },
  {
   "cell_type": "code",
   "execution_count": 33,
   "metadata": {
    "collapsed": false
   },
   "outputs": [
    {
     "name": "stdout",
     "output_type": "stream",
     "text": [
      "X0 = \n",
      "[-13.47129403 -23.01864638  25.39746356 -30.35374674  27.62589912\n",
      " -21.38895286 -25.94951918  -0.22625022 -19.82786029  13.21926013\n",
      "  15.20423867   7.37245585   3.80376844  -5.76647112   3.47380581\n",
      " -26.12924104 -29.13736946   2.16726643  30.71670038  11.4235371 ]\n",
      "\n",
      "J(X0) = 21.38699\n",
      "\n",
      "Xmin = \n",
      "[-0.0062923  -0.00170533  0.01587081 -0.00319129  0.00363223  0.00569661\n",
      " -0.00915489  0.00347194  0.00406802 -0.0019419  -0.01253456  0.00307027\n",
      " -0.00187287  0.00012256 -0.00593526  0.0103228   0.01724678 -0.00154362\n",
      " -0.0157486  -0.00251835]\n",
      "0.0361924343635\n"
     ]
    }
   ],
   "source": [
    "def energy(X):\n",
    "    N = len(X)\n",
    "#   Use the Rastrigin function\n",
    "#   https://en.wikipedia.org/wiki/Rastrigin_function\n",
    "#     return 10*N + np.sum(np.square(X) - 10*np.cos(2*np.pi*X))\n",
    "\n",
    "#   Use the Ackley function\n",
    "    return -20*np.exp(-0.2*np.sqrt(np.square(X).mean())) - np.exp(((np.cos(2*np.pi*X)).mean())) + np.exp(1) + 20\n",
    "\n",
    "def cauchyPdf(k):\n",
    "    # samples from standard cauchy distribution? x0=0 and gamma=1\n",
    "    return np.random.standard_cauchy(k)\n",
    "\n",
    "def decay(TO, k):\n",
    "    return T0 / k\n",
    "\n",
    "def makeCyclicMove(X,eps, lowerLimit, upperLimit, randomNumberGenerator):\n",
    "    Xn = X + eps*randomNumberGenerator(len(X))*T\n",
    "    Xn[Xn > upperLimit] = (Xn[Xn > upperLimit] - upperLimit) + lowerLimit\n",
    "    Xn[Xn < lowerLimit] = (Xn[Xn < lowerLimit] - lowerLimit) + upperLimit\n",
    "    return Xn   \n",
    "\n",
    "dimProblem = 20 # dimension of the problem to be minimized : len(X)\n",
    "N = int(1e4) # numero de iter por temperatura\n",
    "K = 200 # numero de temps a ser usada\n",
    "T = T0 = 1.5 # temp inicial\n",
    "eps = 0.2 # tamanho max da perturbacao\n",
    "n = 0\n",
    "k = 1\n",
    "end = False\n",
    "\n",
    "# Xmin = X = X0 = np.random.randn(dimProblem)\n",
    "Xmin = X = X0 = np.random.uniform(-32, 32, dimProblem)\n",
    "Jmin = J = J0 = energy(X0)\n",
    "\n",
    "print('X0 = ')\n",
    "print(Xmin)\n",
    "print('\\nJ(X0) = {:1.5f}'.format(Jmin))\n",
    "print()\n",
    "\n",
    "while not end:\n",
    "    n = n + 1\n",
    "    Xn = makeCyclicMove(X,eps, -32, 32, cauchyPdf)\n",
    "#     Xn = makeCyclicMove(X,eps, -5.12, 5.12, cauchyPdf)\n",
    "    Jn = energy(Xn)\n",
    "    if np.exp(-(Jn-J)/T) > np.random.rand(1):\n",
    "        X = Xn\n",
    "        J = Jn\n",
    "    if Jn < Jmin:\n",
    "        Xmin = Xn\n",
    "        Jmin = Jn\n",
    "\n",
    "    #linear cooling\n",
    "    if n % N == 0:\n",
    "        k = k + 1\n",
    "        T = decay(T0, k)\n",
    "        if k > K:\n",
    "            end = True\n",
    "\n",
    "print('Xmin = ')\n",
    "print(Xmin)\n",
    "print(Jmin)\n",
    "# print('\\nJ(Xmin) = {:1.5f}'.format(Jmin))"
   ]
  },
  {
   "cell_type": "markdown",
   "metadata": {},
   "source": [
    "Apesar de não ter sido solicitado na questão, foi implementado o FSA com recozimento linear ao invés do convencional e seu decaimento logarítimico. Dessa vez também foi empregada uma função custo mais simples, a função de Ackley, cujos mínimos locais não são tão profundos e a topologia global consistindo de uma poço de energia mais acentuado em comparação à função de Rastrigin.\n",
    "\n",
    "Apesar de não estar exibido aqui, o uso do FSA na função de Rastrigin de 20 dimensões obteve um resultado um pouco melhor do que através do CSA e em menos tempo também: J= 5.6 (em 20 dimensões) contra J = 6.4 (em 10 dimensões). "
   ]
  },
  {
   "cell_type": "code",
   "execution_count": null,
   "metadata": {
    "collapsed": true
   },
   "outputs": [],
   "source": []
  }
 ],
 "metadata": {
  "kernelspec": {
   "display_name": "Python 3",
   "language": "python",
   "name": "python3"
  },
  "language_info": {
   "codemirror_mode": {
    "name": "ipython",
    "version": 3
   },
   "file_extension": ".py",
   "mimetype": "text/x-python",
   "name": "python",
   "nbconvert_exporter": "python",
   "pygments_lexer": "ipython3",
   "version": "3.6.0"
  }
 },
 "nbformat": 4,
 "nbformat_minor": 2
}
